{
 "cells": [
  {
   "cell_type": "code",
   "execution_count": 1,
   "id": "d38a5b33-bd3c-4c09-a9a6-f7f29a611027",
   "metadata": {},
   "outputs": [],
   "source": [
    "import pickle\n",
    "import glob\n",
    "import os\n",
    "import numpy as np\n",
    "from PIL import Image\n",
    "import matplotlib.pyplot as plt\n",
    "\n",
    "\n",
    "\n",
    "def unpickle(file):\n",
    "    with open(file, 'rb') as fo:\n",
    "        data = pickle.load(fo, encoding='latin1')\n",
    "    return data"
   ]
  },
  {
   "cell_type": "code",
   "execution_count": 11,
   "id": "5b963935-0eef-42d1-8410-92633a9c94ea",
   "metadata": {},
   "outputs": [
    {
     "name": "stdout",
     "output_type": "stream",
     "text": [
      "/scratch1/apicker/data/cifar10/train/data_batch_2\n",
      "bufo_boreas_s_000132.png\n",
      "/scratch1/apicker/data/cifar10/train/data_batch_5\n",
      "spring_frog_s_001103.png\n",
      "/scratch1/apicker/data/cifar10/train/data_batch_1\n",
      "leopard_frog_s_001021.png\n",
      "/scratch1/apicker/data/cifar10/train/data_batch_4\n",
      "fighter_aircraft_s_000038.png\n",
      "/scratch1/apicker/data/cifar10/train/data_batch_3\n",
      "puppy_s_000694.png\n"
     ]
    }
   ],
   "source": [
    "root = '/scratch1/apicker/data/cifar10'\n",
    "\n",
    "\n",
    "filenames = glob.glob(os.path.join(root,'train','*'))\n",
    "for file in filenames:\n",
    "    metadata = unpickle(file)\n",
    "image_data = metadata['data']\n",
    "labels = np.array(metadata['labels'])\n",
    "filenames = metadata['filenames']"
   ]
  },
  {
   "cell_type": "code",
   "execution_count": 12,
   "id": "40668456-0e0a-42cb-8235-b01cb2cae1cc",
   "metadata": {},
   "outputs": [
    {
     "name": "stdout",
     "output_type": "stream",
     "text": [
      "[183 158 166 ... 250 250 250]\n",
      "0\n"
     ]
    },
    {
     "data": {
      "text/plain": [
       "'dive_bomber_s_000875.png'"
      ]
     },
     "execution_count": 12,
     "metadata": {},
     "output_type": "execute_result"
    }
   ],
   "source": [
    "idx = 2\n",
    "img = image_data[idx]\n",
    "lbl = labels[idx]\n",
    "fn = filenames[idx]\n",
    "print(img)\n",
    "print(lbl)\n",
    "fn"
   ]
  },
  {
   "cell_type": "code",
   "execution_count": 13,
   "id": "19a5229c-1477-4b2a-b435-13d401ca7299",
   "metadata": {},
   "outputs": [
    {
     "data": {
      "image/png": "[encoded data removed]",
      "text/plain": [
       "<Figure size 640x480 with 1 Axes>"
      ]
     },
     "metadata": {},
     "output_type": "display_data"
    }
   ],
   "source": [
    "def visualize(image_array):\n",
    "    image = image_array.reshape(3, 32, 32).transpose([1,2,0])\n",
    "    plt.imshow(image)\n",
    "    plt.axis('off')  # Turn off axis numbers\n",
    "    plt.show()\n",
    "\n",
    "visualize(img)\n"
   ]
  },
  {
   "cell_type": "code",
   "execution_count": null,
   "id": "5d3e7b35-1696-4072-ad51-33e964d6527e",
   "metadata": {},
   "outputs": [],
   "source": []
  }
 ],
 "metadata": {
  "kernelspec": {
   "display_name": "Pytorch 8550",
   "language": "python",
   "name": "pytorch8550"
  },
  "language_info": {
   "codemirror_mode": {
    "name": "ipython",
    "version": 3
   },
   "file_extension": ".py",
   "mimetype": "text/x-python",
   "name": "python",
   "nbconvert_exporter": "python",
   "pygments_lexer": "ipython3",
   "version": "3.10.9"
  }
 },
 "nbformat": 4,
 "nbformat_minor": 5
}
