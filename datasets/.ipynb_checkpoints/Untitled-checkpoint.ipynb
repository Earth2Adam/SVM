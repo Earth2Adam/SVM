{
 "cells": [
  {
   "cell_type": "code",
   "execution_count": 7,
   "id": "d38a5b33-bd3c-4c09-a9a6-f7f29a611027",
   "metadata": {},
   "outputs": [],
   "source": [
    "import pickle\n",
    "import glob\n",
    "import os\n",
    "\n",
    "def unpickle(file):\n",
    "    with open(file, 'rb') as fo:\n",
    "        dict = pickle.load(fo)\n",
    "    return dict"
   ]
  },
  {
   "cell_type": "code",
   "execution_count": 11,
   "id": "5b963935-0eef-42d1-8410-92633a9c94ea",
   "metadata": {},
   "outputs": [
    {
     "name": "stdout",
     "output_type": "stream",
     "text": [
      "files found:  0\n"
     ]
    }
   ],
   "source": [
    "root = '/scratch1/apicker/data/cifar10'\n",
    "\n",
    "#dataset_path = os.path.join(self.root, dataset_split, data_type)\n",
    "#filenames = glob.glob(os.path.join(dataset_path,'*.*'))\n",
    "#print('files found: ', len(filenames))\n",
    "\n",
    "\n",
    "filenames = glob.glob(os.path.join(root,'train','*.*'))\n",
    "print('files found: ', len(filenames))\n",
    "'''\n",
    "for file in filenames:\n",
    "    data = unpickle(file)\n",
    "    break\n",
    "data'''\n",
    "a = 1"
   ]
  },
  {
   "cell_type": "code",
   "execution_count": null,
   "id": "40668456-0e0a-42cb-8235-b01cb2cae1cc",
   "metadata": {},
   "outputs": [],
   "source": []
  }
 ],
 "metadata": {
  "kernelspec": {
   "display_name": "Pytorch 8550",
   "language": "python",
   "name": "pytorch8550"
  },
  "language_info": {
   "codemirror_mode": {
    "name": "ipython",
    "version": 3
   },
   "file_extension": ".py",
   "mimetype": "text/x-python",
   "name": "python",
   "nbconvert_exporter": "python",
   "pygments_lexer": "ipython3",
   "version": "3.10.9"
  }
 },
 "nbformat": 4,
 "nbformat_minor": 5
}
