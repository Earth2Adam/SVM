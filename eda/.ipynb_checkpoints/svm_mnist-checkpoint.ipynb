{
 "cells": [
  {
   "cell_type": "markdown",
   "metadata": {},
   "source": [
    "## Imports"
   ]
  },
  {
   "cell_type": "code",
   "execution_count": 1,
   "metadata": {},
   "outputs": [],
   "source": [
    "%load_ext autoreload\n",
    "%autoreload 2\n",
    "from sklearn.decomposition import PCA\n",
    "from sklearn.preprocessing import StandardScaler\n",
    "import numpy as np\n",
    "import torch\n",
    "import matplotlib.pyplot as plt\n",
    "from cvxopt import matrix, solvers\n",
    "from datasets.mnist import MNIST\n",
    "import time\n",
    "\n",
    "from models.svm import OneVsRestSVM\n",
    "\n",
    "root = '/scratch1/apicker/data/mnist/' ## path/to/your/data"
   ]
  },
  {
   "cell_type": "markdown",
   "metadata": {},
   "source": [
    "## Training Data Loading / Preprocessing"
   ]
  },
  {
   "cell_type": "code",
   "execution_count": 2,
   "metadata": {},
   "outputs": [
    {
     "data": {
      "image/png": "[encoded data removed]",
      "text/plain": [
       "<Figure size 1500x300 with 5 Axes>"
      ]
     },
     "metadata": {},
     "output_type": "display_data"
    }
   ],
   "source": [
    "# loading data\n",
    "train_ds = MNIST(root, train=True)\n",
    "    \n",
    "train_ds.show_sample_images()"
   ]
  },
  {
   "cell_type": "code",
   "execution_count": 3,
   "metadata": {},
   "outputs": [
    {
     "data": {
      "text/plain": [
       "((60000, 784), (60000,))"
      ]
     },
     "execution_count": 3,
     "metadata": {},
     "output_type": "execute_result"
    }
   ],
   "source": [
    "X_train = train_ds.get_images()\n",
    "y_train = train_ds.get_labels()\n",
    "\n",
    "X_train.shape, y_train.shape"
   ]
  },
  {
   "cell_type": "code",
   "execution_count": 4,
   "metadata": {},
   "outputs": [
    {
     "data": {
      "text/plain": [
       "((1000, 784), (1000,))"
      ]
     },
     "execution_count": 4,
     "metadata": {},
     "output_type": "execute_result"
    }
   ],
   "source": [
    "train_samples = 1000\n",
    "\n",
    "X_train = X_train[:train_samples]\n",
    "y_train = y_train[:train_samples]\n",
    "X_train.shape, y_train.shape"
   ]
  },
  {
   "cell_type": "code",
   "execution_count": 5,
   "metadata": {},
   "outputs": [
    {
     "name": "stdout",
     "output_type": "stream",
     "text": [
      "Reduced number of features: 191\n"
     ]
    },
    {
     "data": {
      "text/plain": [
       "((1000, 191), (1000,))"
      ]
     },
     "execution_count": 5,
     "metadata": {},
     "output_type": "execute_result"
    }
   ],
   "source": [
    "# preprocessing\n",
    "\n",
    "# standardize the data\n",
    "scaler = StandardScaler()\n",
    "X_scaled = scaler.fit_transform(X_train)\n",
    "\n",
    "# apply PCA\n",
    "pca = PCA(n_components=0.95) # keep 95% of the variance\n",
    "pca.fit(X_scaled)\n",
    "\n",
    "X_reduced = pca.transform(X_scaled)\n",
    "print(f\"Reduced number of features: {X_reduced.shape[1]}\")\n",
    "X_reduced.shape, y_train.shape"
   ]
  },
  {
   "cell_type": "markdown",
   "metadata": {
    "tags": []
   },
   "source": [
    "## Training"
   ]
  },
  {
   "cell_type": "code",
   "execution_count": 6,
   "metadata": {},
   "outputs": [
    {
     "name": "stdout",
     "output_type": "stream",
     "text": [
      "     pcost       dcost       gap    pres   dres\n",
      " 0: -7.0020e+01 -1.8388e+03  1e+04  3e+00  5e-13\n",
      " 1: -4.2882e+01 -9.8149e+02  2e+03  4e-01  3e-13\n",
      " 2: -1.8974e+01 -3.3100e+02  6e+02  1e-01  2e-13\n",
      " 3: -8.1563e+00 -1.7214e+02  3e+02  5e-02  1e-13\n",
      " 4: -1.3275e-01 -4.1926e+01  6e+01  6e-03  7e-14\n",
      " 5:  2.4148e-02 -7.5341e+00  1e+01  1e-03  1e-14\n",
      " 6: -1.1801e-02 -1.0227e+00  1e+00  7e-05  4e-15\n",
      " 7: -8.6538e-02 -5.2032e-01  5e-01  2e-05  2e-15\n",
      " 8: -1.4045e-01 -3.2519e-01  2e-01  2e-16  2e-15\n",
      " 9: -1.7408e-01 -2.3616e-01  6e-02  2e-16  2e-15\n",
      "10: -1.8391e-01 -2.1340e-01  3e-02  2e-16  2e-15\n",
      "11: -1.9344e-01 -1.9822e-01  5e-03  2e-16  2e-15\n",
      "12: -1.9530e-01 -1.9551e-01  2e-04  2e-16  2e-15\n",
      "13: -1.9538e-01 -1.9539e-01  1e-05  2e-16  2e-15\n",
      "14: -1.9539e-01 -1.9539e-01  3e-07  2e-16  2e-15\n",
      "15: -1.9539e-01 -1.9539e-01  4e-09  2e-16  2e-15\n",
      "Optimal solution found.\n",
      "# of support vectors: 79\n",
      "Classifier 0 took 0.62 seconds to fit. (0.01 minutes)\n",
      "     pcost       dcost       gap    pres   dres\n",
      " 0: -1.0563e+02 -2.0862e+03  1e+04  3e+00  6e-13\n",
      " 1: -6.6387e+01 -1.1704e+03  2e+03  4e-01  3e-13\n",
      " 2: -3.8382e+01 -4.7527e+02  8e+02  1e-01  2e-13\n",
      " 3: -2.3028e+01 -2.7784e+02  5e+02  7e-02  2e-13\n",
      " 4: -8.5213e+00 -1.8515e+02  3e+02  4e-02  1e-13\n",
      " 5: -1.2818e+00 -5.1103e+01  8e+01  8e-03  5e-14\n",
      " 6: -1.7546e-01 -1.4116e+01  2e+01  2e-03  1e-14\n",
      " 7: -1.7223e-01 -3.0704e+00  4e+00  2e-04  5e-15\n",
      " 8: -2.9220e-01 -1.3457e+00  1e+00  4e-05  3e-15\n",
      " 9: -4.1949e-01 -8.5484e-01  5e-01  1e-05  3e-15\n",
      "10: -4.7071e-01 -6.8948e-01  2e-01  2e-16  3e-15\n",
      "11: -5.2787e-01 -5.8210e-01  5e-02  2e-16  4e-15\n",
      "12: -5.3932e-01 -5.6041e-01  2e-02  2e-16  4e-15\n",
      "13: -5.4662e-01 -5.5072e-01  4e-03  2e-16  4e-15\n",
      "14: -5.4827e-01 -5.4854e-01  3e-04  2e-16  4e-15\n",
      "15: -5.4839e-01 -5.4840e-01  3e-06  2e-16  4e-15\n",
      "16: -5.4840e-01 -5.4840e-01  3e-08  2e-16  4e-15\n",
      "Optimal solution found.\n",
      "# of support vectors: 74\n",
      "Classifier 1 took 0.55 seconds to fit. (0.01 minutes)\n",
      "     pcost       dcost       gap    pres   dres\n",
      " 0: -1.1714e+02 -1.9644e+03  1e+04  3e+00  7e-13\n",
      " 1: -7.5075e+01 -1.1042e+03  2e+03  4e-01  4e-13\n",
      " 2: -5.0321e+01 -5.3720e+02  9e+02  2e-01  3e-13\n",
      " 3: -3.3044e+01 -2.7522e+02  5e+02  8e-02  2e-13\n",
      " 4: -2.0846e+01 -2.0879e+02  4e+02  5e-02  2e-13\n",
      " 5: -1.1454e+01 -1.4714e+02  3e+02  3e-02  1e-13\n",
      " 6: -1.5755e+00 -4.6567e+01  7e+01  7e-03  6e-14\n",
      " 7: -2.4782e-01 -1.2377e+01  2e+01  1e-03  2e-14\n",
      " 8: -5.1437e-01 -4.0166e+00  4e+00  3e-04  8e-15\n",
      " 9: -6.5655e-01 -2.5302e+00  2e+00  7e-05  7e-15\n",
      "10: -8.9695e-01 -1.6521e+00  8e-01  2e-05  6e-15\n",
      "11: -9.7085e-01 -1.3716e+00  4e-01  3e-06  7e-15\n",
      "12: -1.0688e+00 -1.1803e+00  1e-01  7e-07  7e-15\n",
      "13: -1.0947e+00 -1.1269e+00  3e-02  2e-16  8e-15\n",
      "14: -1.1074e+00 -1.1101e+00  3e-03  2e-16  8e-15\n",
      "15: -1.1085e+00 -1.1086e+00  6e-05  2e-16  8e-15\n",
      "16: -1.1086e+00 -1.1086e+00  7e-07  2e-16  8e-15\n",
      "Optimal solution found.\n",
      "# of support vectors: 102\n",
      "Classifier 2 took 0.57 seconds to fit. (0.01 minutes)\n",
      "     pcost       dcost       gap    pres   dres\n",
      " 0: -1.1074e+02 -1.9771e+03  1e+04  3e+00  6e-13\n",
      " 1: -7.0605e+01 -1.1032e+03  2e+03  4e-01  4e-13\n",
      " 2: -4.0452e+01 -4.3816e+02  7e+02  1e-01  3e-13\n",
      " 3: -2.2064e+01 -2.0492e+02  3e+02  5e-02  2e-13\n",
      " 4: -1.3137e+01 -1.5144e+02  3e+02  4e-02  1e-13\n",
      " 5: -1.7954e+00 -5.8158e+01  9e+01  9e-03  8e-14\n",
      " 6: -4.7995e-01 -1.5829e+01  2e+01  2e-03  2e-14\n",
      " 7: -1.7615e-01 -3.8635e+00  5e+00  3e-04  6e-15\n",
      " 8: -3.8035e-01 -1.7192e+00  2e+00  8e-05  4e-15\n",
      " 9: -4.8065e-01 -1.0287e+00  6e-01  7e-06  4e-15\n",
      "10: -5.7628e-01 -7.8830e-01  2e-01  1e-07  4e-15\n",
      "11: -6.2359e-01 -6.9666e-01  7e-02  3e-08  4e-15\n",
      "12: -6.4403e-01 -6.6020e-01  2e-02  2e-16  5e-15\n",
      "13: -6.5081e-01 -6.5135e-01  5e-04  3e-16  5e-15\n",
      "14: -6.5105e-01 -6.5105e-01  6e-06  2e-16  5e-15\n",
      "15: -6.5105e-01 -6.5105e-01  6e-08  2e-16  5e-15\n",
      "Optimal solution found.\n",
      "# of support vectors: 90\n",
      "Classifier 3 took 0.50 seconds to fit. (0.01 minutes)\n",
      "     pcost       dcost       gap    pres   dres\n",
      " 0: -1.1886e+02 -2.0454e+03  1e+04  3e+00  6e-13\n",
      " 1: -7.6652e+01 -1.1840e+03  2e+03  4e-01  3e-13\n",
      " 2: -4.8398e+01 -4.6473e+02  8e+02  1e-01  2e-13\n",
      " 3: -3.4249e+01 -2.6285e+02  4e+02  7e-02  2e-13\n",
      " 4: -2.0220e+01 -1.4482e+02  2e+02  4e-02  1e-13\n",
      " 5: -1.1040e+01 -1.0857e+02  2e+02  2e-02  9e-14\n",
      " 6: -1.8995e+00 -2.4890e+01  4e+01  4e-03  5e-14\n",
      " 7: -7.9511e-01 -1.0137e+01  1e+01  1e-03  2e-14\n",
      " 8: -8.4162e-01 -3.0264e+00  3e+00  2e-04  8e-15\n",
      " 9: -1.0475e+00 -1.6886e+00  7e-01  4e-05  7e-15\n",
      "10: -1.1502e+00 -1.3216e+00  2e-01  3e-16  8e-15\n",
      "11: -1.2117e+00 -1.2252e+00  1e-02  2e-16  8e-15\n",
      "12: -1.2173e+00 -1.2176e+00  3e-04  2e-16  9e-15\n",
      "13: -1.2174e+00 -1.2174e+00  7e-06  2e-16  9e-15\n",
      "14: -1.2174e+00 -1.2174e+00  1e-07  2e-16  9e-15\n",
      "Optimal solution found.\n",
      "# of support vectors: 97\n",
      "Classifier 4 took 0.50 seconds to fit. (0.01 minutes)\n",
      "     pcost       dcost       gap    pres   dres\n",
      " 0: -1.5449e+02 -2.1524e+03  1e+04  3e+00  7e-13\n",
      " 1: -1.0193e+02 -1.2932e+03  3e+03  5e-01  4e-13\n",
      " 2: -7.1702e+01 -5.9156e+02  1e+03  2e-01  3e-13\n",
      " 3: -4.9919e+01 -3.0200e+02  5e+02  7e-02  2e-13\n",
      " 4: -3.7873e+01 -2.0491e+02  3e+02  4e-02  2e-13\n",
      " 5: -2.5433e+01 -1.4110e+02  2e+02  2e-02  1e-13\n",
      " 6: -1.7191e+01 -1.0749e+02  2e+02  1e-02  9e-14\n",
      " 7: -1.3175e+01 -7.2416e+01  1e+02  8e-03  6e-14\n",
      " 8: -7.8369e+00 -4.4482e+01  6e+01  3e-03  5e-14\n",
      " 9: -3.1509e+00 -3.2124e+01  4e+01  1e-03  5e-14\n",
      "10: -5.9014e+00 -1.5406e+01  1e+01  3e-04  4e-14\n",
      "11: -7.2303e+00 -1.0043e+01  3e+00  2e-16  4e-14\n",
      "12: -7.9717e+00 -8.7043e+00  7e-01  2e-16  4e-14\n",
      "13: -8.2238e+00 -8.2710e+00  5e-02  1e-15  5e-14\n",
      "14: -8.2429e+00 -8.2444e+00  1e-03  5e-16  4e-14\n",
      "15: -8.2435e+00 -8.2435e+00  3e-05  2e-15  5e-14\n",
      "16: -8.2435e+00 -8.2435e+00  6e-07  1e-15  5e-14\n",
      "Optimal solution found.\n",
      "# of support vectors: 123\n",
      "Classifier 5 took 0.53 seconds to fit. (0.01 minutes)\n",
      "     pcost       dcost       gap    pres   dres\n",
      " 0: -8.1166e+01 -1.6965e+03  8e+03  2e+00  5e-13\n",
      " 1: -5.3410e+01 -8.7075e+02  2e+03  3e-01  3e-13\n",
      " 2: -3.3232e+01 -3.6614e+02  6e+02  1e-01  2e-13\n",
      " 3: -1.8059e+01 -1.9647e+02  3e+02  6e-02  1e-13\n",
      " 4: -2.3769e+00 -1.1147e+02  2e+02  2e-02  1e-13\n",
      " 5: -3.7079e-01 -2.2333e+01  3e+01  4e-03  3e-14\n",
      " 6: -9.1961e-02 -5.0328e+00  7e+00  6e-04  7e-15\n",
      " 7: -1.6217e-01 -1.4014e+00  2e+00  1e-04  3e-15\n",
      " 8: -2.4732e-01 -7.9401e-01  6e-01  4e-05  2e-15\n",
      " 9: -3.2040e-01 -5.1348e-01  2e-01  4e-07  2e-15\n",
      "10: -3.6076e-01 -4.2546e-01  6e-02  2e-16  3e-15\n",
      "11: -3.8271e-01 -3.9251e-01  1e-02  2e-16  3e-15\n",
      "12: -3.8648e-01 -3.8708e-01  6e-04  2e-16  3e-15\n",
      "13: -3.8673e-01 -3.8673e-01  9e-06  2e-16  3e-15\n",
      "14: -3.8673e-01 -3.8673e-01  1e-07  2e-16  3e-15\n",
      "Optimal solution found.\n",
      "# of support vectors: 75\n",
      "Classifier 6 took 0.46 seconds to fit. (0.01 minutes)\n",
      "     pcost       dcost       gap    pres   dres\n",
      " 0: -1.0797e+02 -1.7891e+03  9e+03  2e+00  6e-13\n",
      " 1: -7.1465e+01 -9.6403e+02  2e+03  4e-01  3e-13\n",
      " 2: -4.4179e+01 -4.3526e+02  7e+02  1e-01  3e-13\n",
      " 3: -2.8185e+01 -2.3358e+02  4e+02  7e-02  2e-13\n",
      " 4: -1.4256e+01 -1.5137e+02  3e+02  4e-02  1e-13\n",
      " 5: -2.4957e+00 -5.6381e+01  9e+01  1e-02  8e-14\n",
      " 6: -6.3070e-01 -1.1667e+01  2e+01  2e-03  2e-14\n",
      " 7: -4.9199e-01 -3.1882e+00  4e+00  3e-04  7e-15\n",
      " 8: -6.1752e-01 -1.6121e+00  1e+00  8e-05  5e-15\n",
      " 9: -7.4185e-01 -9.5648e-01  2e-01  2e-16  6e-15\n",
      "10: -7.9875e-01 -8.6398e-01  7e-02  2e-16  6e-15\n",
      "11: -8.2120e-01 -8.2855e-01  7e-03  2e-16  7e-15\n",
      "12: -8.2438e-01 -8.2459e-01  2e-04  2e-16  7e-15\n",
      "13: -8.2447e-01 -8.2448e-01  3e-06  2e-16  7e-15\n",
      "14: -8.2447e-01 -8.2447e-01  3e-08  2e-16  7e-15\n",
      "Optimal solution found.\n",
      "# of support vectors: 86\n",
      "Classifier 7 took 0.56 seconds to fit. (0.01 minutes)\n",
      "     pcost       dcost       gap    pres   dres\n",
      " 0: -1.2521e+02 -2.1504e+03  1e+04  3e+00  6e-13\n",
      " 1: -8.1276e+01 -1.2318e+03  2e+03  4e-01  3e-13\n",
      " 2: -5.6481e+01 -5.4529e+02  9e+02  1e-01  2e-13\n",
      " 3: -3.7824e+01 -2.9053e+02  5e+02  7e-02  2e-13\n",
      " 4: -2.3382e+01 -1.7901e+02  3e+02  4e-02  1e-13\n",
      " 5: -1.5344e+01 -1.3198e+02  2e+02  2e-02  1e-13\n",
      " 6: -8.4254e+00 -1.0891e+02  2e+02  2e-02  8e-14\n",
      " 7: -1.4937e+00 -6.4695e+01  1e+02  6e-03  5e-14\n",
      " 8: -9.2758e-01 -1.4313e+01  2e+01  9e-04  2e-14\n",
      " 9: -1.6457e+00 -7.1038e+00  6e+00  2e-04  1e-14\n",
      "10: -2.2390e+00 -4.5864e+00  2e+00  5e-16  2e-14\n",
      "11: -2.6988e+00 -3.5224e+00  8e-01  2e-16  2e-14\n",
      "12: -2.9128e+00 -3.0852e+00  2e-01  2e-16  2e-14\n",
      "13: -2.9704e+00 -2.9965e+00  3e-02  8e-16  2e-14\n",
      "14: -2.9813e+00 -2.9823e+00  1e-03  4e-16  2e-14\n",
      "15: -2.9817e+00 -2.9817e+00  2e-05  2e-16  2e-14\n",
      "16: -2.9817e+00 -2.9817e+00  2e-07  3e-16  2e-14\n",
      "Optimal solution found.\n",
      "# of support vectors: 108\n",
      "Classifier 8 took 0.57 seconds to fit. (0.01 minutes)\n",
      "     pcost       dcost       gap    pres   dres\n",
      " 0: -1.6032e+02 -2.3032e+03  1e+04  3e+00  8e-13\n",
      " 1: -1.0684e+02 -1.4244e+03  3e+03  5e-01  4e-13\n",
      " 2: -6.9493e+01 -6.8961e+02  1e+03  2e-01  3e-13\n",
      " 3: -5.1599e+01 -3.9393e+02  6e+02  8e-02  2e-13\n",
      " 4: -3.6412e+01 -1.8734e+02  3e+02  3e-02  1e-13\n",
      " 5: -2.5705e+01 -1.2098e+02  2e+02  2e-02  1e-13\n",
      " 6: -1.9032e+01 -7.6218e+01  1e+02  1e-02  8e-14\n",
      " 7: -1.2465e+01 -6.2265e+01  9e+01  6e-03  7e-14\n",
      " 8: -7.1025e+00 -3.1061e+01  4e+01  2e-03  6e-14\n",
      " 9: -7.2823e+00 -1.5137e+01  1e+01  5e-04  4e-14\n",
      "10: -7.8307e+00 -9.9859e+00  2e+00  6e-05  4e-14\n",
      "11: -8.3355e+00 -8.5571e+00  2e-01  2e-06  5e-14\n",
      "12: -8.4128e+00 -8.4296e+00  2e-02  8e-08  5e-14\n",
      "13: -8.4193e+00 -8.4199e+00  7e-04  3e-09  5e-14\n",
      "14: -8.4195e+00 -8.4196e+00  2e-05  8e-11  5e-14\n",
      "15: -8.4196e+00 -8.4196e+00  5e-07  1e-12  5e-14\n",
      "Optimal solution found.\n",
      "# of support vectors: 127\n",
      "Classifier 9 took 0.48 seconds to fit. (0.01 minutes)\n"
     ]
    }
   ],
   "source": [
    "n_classes = 10\n",
    "model = OneVsRestSVM(n_classes)\n",
    "kernel = 'linear'\n",
    "gamma = 5.0\n",
    "C = 1.0\n",
    "model.fit(X_reduced, y_train, kernel=kernel, dataset='mnist', C=C, gamma=gamma)"
   ]
  },
  {
   "cell_type": "markdown",
   "metadata": {},
   "source": [
    "## Now that we're fitted, time to test on the test dataset."
   ]
  },
  {
   "cell_type": "code",
   "execution_count": 7,
   "metadata": {},
   "outputs": [
    {
     "data": {
      "text/plain": [
       "((10000, 784), (10000,))"
      ]
     },
     "execution_count": 7,
     "metadata": {},
     "output_type": "execute_result"
    }
   ],
   "source": [
    "test_ds = MNIST(root, train=False)\n",
    "\n",
    "X_test = test_ds.get_images()\n",
    "y_test = test_ds.get_labels()\n",
    "\n",
    "X_test.shape, y_test.shape"
   ]
  },
  {
   "cell_type": "code",
   "execution_count": 8,
   "metadata": {},
   "outputs": [
    {
     "name": "stdout",
     "output_type": "stream",
     "text": [
      "Reduced number of features: 191\n"
     ]
    },
    {
     "data": {
      "text/plain": [
       "(10000, 191)"
      ]
     },
     "execution_count": 8,
     "metadata": {},
     "output_type": "execute_result"
    }
   ],
   "source": [
    "# preprocessing\n",
    "\n",
    "# standardize the data\n",
    "X_test_scaled = scaler.transform(X_test)\n",
    "\n",
    "# apply PCA\n",
    "X_test_reduced = pca.transform(X_test_scaled)\n",
    "\n",
    "print(f\"Reduced number of features: {X_test_reduced.shape[1]}\")\n",
    "X_test_reduced.shape"
   ]
  },
  {
   "cell_type": "code",
   "execution_count": 9,
   "metadata": {},
   "outputs": [
    {
     "name": "stdout",
     "output_type": "stream",
     "text": [
      "Test Accuracy: 79.10%\n"
     ]
    }
   ],
   "source": [
    "accuracy = model.test(X_test_reduced, y_test)\n",
    "print(f\"Test Accuracy: {accuracy * 100:.2f}%\")"
   ]
  }
 ],
 "metadata": {
  "colab": {
   "provenance": []
  },
  "kernelspec": {
   "display_name": "Pytorch 8550",
   "language": "python",
   "name": "pytorch8550"
  },
  "language_info": {
   "codemirror_mode": {
    "name": "ipython",
    "version": 3
   },
   "file_extension": ".py",
   "mimetype": "text/x-python",
   "name": "python",
   "nbconvert_exporter": "python",
   "pygments_lexer": "ipython3",
   "version": "3.10.9"
  }
 },
 "nbformat": 4,
 "nbformat_minor": 4
}
