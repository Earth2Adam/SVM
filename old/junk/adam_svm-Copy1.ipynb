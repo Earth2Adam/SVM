{
 "cells": [
  {
   "cell_type": "markdown",
   "metadata": {
    "colab": {
     "base_uri": "https://localhost:8080/"
    },
    "id": "K--EDiaH9bPL",
    "outputId": "bf0ea775-24f4-44e2-e142-349f2ce18b53"
   },
   "source": [
    "## Imports"
   ]
  },
  {
   "cell_type": "code",
   "execution_count": 1,
   "metadata": {},
   "outputs": [],
   "source": [
    "%load_ext autoreload\n",
    "%autoreload 2\n",
    "import numpy as np\n",
    "import torch\n",
    "from datasets.cifar10 import CIFAR10\n",
    "root = '/scratch1/apicker/data/cifar10'"
   ]
  },
  {
   "cell_type": "markdown",
   "metadata": {},
   "source": [
    "## Training Data Loading / Preprocessing"
   ]
  },
  {
   "cell_type": "code",
   "execution_count": 2,
   "metadata": {
    "id": "EW3SXR099dC8"
   },
   "outputs": [],
   "source": [
    "train_ds = CIFAR10(root, train=True)"
   ]
  },
  {
   "cell_type": "code",
   "execution_count": 3,
   "metadata": {},
   "outputs": [
    {
     "data": {
      "text/plain": [
       "((50000, 32, 32, 3), (50000,))"
      ]
     },
     "execution_count": 3,
     "metadata": {},
     "output_type": "execute_result"
    }
   ],
   "source": [
    "X_train_raw = train_ds.images\n",
    "y_train_raw = train_ds.labels\n",
    "X_train_raw.shape, y_train_raw.shape"
   ]
  },
  {
   "cell_type": "code",
   "execution_count": 4,
   "metadata": {},
   "outputs": [
    {
     "data": {
      "text/plain": [
       "(50000, 3072)"
      ]
     },
     "execution_count": 4,
     "metadata": {},
     "output_type": "execute_result"
    }
   ],
   "source": [
    "X_train_reshaped = X_train_raw.reshape(X_train_raw.shape[0], 32*32*3)\n",
    "X_train_reshaped.shape"
   ]
  },
  {
   "cell_type": "code",
   "execution_count": 5,
   "metadata": {},
   "outputs": [],
   "source": [
    "# convert images / labels to float tensors for use with GPU acceleration\n",
    "# also normalize the image data to be kind to our algorithms \n",
    "X_train_tensor = torch.from_numpy(X_train_reshaped).to(torch.float32) / 255.0   #normalization\n",
    "y_train_tensor = torch.from_numpy(y_train_raw).to(torch.float32)"
   ]
  },
  {
   "cell_type": "code",
   "execution_count": 6,
   "metadata": {},
   "outputs": [],
   "source": [
    "# then put tensors on GPU\n",
    "# if you don't have a GPU, well buddy, go get one. cmon man\n",
    "X_train = X_train_tensor.cuda()\n",
    "y_train = y_train_tensor.cuda()"
   ]
  },
  {
   "cell_type": "markdown",
   "metadata": {},
   "source": [
    "## Class Declarations Yo"
   ]
  },
  {
   "cell_type": "code",
   "execution_count": 7,
   "metadata": {},
   "outputs": [],
   "source": [
    "'''\n",
    "class LinearSVM:\n",
    "    def __init__(self):\n",
    "        self.weights = None\n",
    "        self.bias = None\n",
    "\n",
    "    def fit(self, X, y, learning_rate=1e-3, lambda_param=1e-5, n_iters=10):\n",
    "        n_samples, n_features = X.shape\n",
    "        self.weights = torch.zeros(n_features).cuda()\n",
    "        self.bias = 0\n",
    "\n",
    "        # Training process\n",
    "        for _ in range(n_iters):\n",
    "            for idx, x_i in enumerate(X):\n",
    "                condition = y[idx] * (torch.dot(x_i, self.weights) - self.bias) >= 1\n",
    "                if condition:\n",
    "                    # Correct classification: Update only for regularization\n",
    "                    self.weights -= learning_rate * (2 * lambda_param * self.weights)\n",
    "                else:\n",
    "                    # Misclassified: Update for both loss and regularization\n",
    "                    self.weights -= learning_rate * (2 * lambda_param * self.weights - torch.dot(x_i, self.weights) * y[idx])\n",
    "                    self.bias -= learning_rate * y[idx]\n",
    "\n",
    "    def predict(self, X):\n",
    "        # Linear model prediction\n",
    "        linear_output = np.torch(X, self.weights) - self.bias\n",
    "        return torch.sign(linear_output)\n",
    "\n",
    "'''\n",
    "pass"
   ]
  },
  {
   "cell_type": "code",
   "execution_count": 42,
   "metadata": {
    "id": "3aHda8j89d2N"
   },
   "outputs": [],
   "source": [
    "class LinearSVM:\n",
    "    def __init__(self):\n",
    "        self.weights = None\n",
    "        self.bias = None\n",
    "\n",
    "    def fit(self, X, y, learning_rate=1e-3, lambda_param=1e-5, n_iters=1000):\n",
    "        n_samples, n_features = X.shape\n",
    "        std = 0.01\n",
    "        self.weights = torch.randn(n_features, dtype=torch.float32) * std\n",
    "        self.weights = self.weights.cuda()\n",
    "        #self.weights = torch.zeros(n_features, dtype=torch.float32).cuda()\n",
    "        self.bias = torch.tensor(2.0, dtype=torch.float32).cuda()\n",
    "\n",
    "        # Ensure the labels are -1 or 1\n",
    "        y_ = torch.where(y <= 0, torch.tensor(-1, dtype=torch.float32), torch.tensor(1, dtype=torch.float32))\n",
    "\n",
    "        for _ in range(n_iters):\n",
    "            # Compute the decision function\n",
    "            linear_model = torch.matmul(X, self.weights) - self.bias\n",
    "            correctly_classified = y_ * linear_model >= 1\n",
    "\n",
    "            # Update weights and bias\n",
    "            self.weights -= learning_rate * (2 * lambda_param * self.weights)\n",
    "            self.weights += learning_rate * torch.matmul(X[~correctly_classified].T, y_[~correctly_classified]) / n_samples\n",
    "            self.bias -= learning_rate * torch.sum(y_[~correctly_classified]) / n_samples\n",
    "\n",
    "    def predict(self, X):\n",
    "        linear_output = torch.matmul(X, self.weights) - self.bias\n",
    "        return torch.sign(linear_output)\n",
    "\n",
    "    \n",
    "\n",
    "class OneVsRestSVM:\n",
    "    def __init__(self, n_classes):\n",
    "        self.classifiers = [LinearSVM() for _ in range(n_classes)]\n",
    "\n",
    "    def fit(self, X, y, **kwargs):\n",
    "        for i in range(len(self.classifiers)):\n",
    "            print(f'Classifier {i}') \n",
    "            self.classifiers[i].fit(X, y, **kwargs)\n",
    "\n",
    "    def predict(self, X):\n",
    "        # Get scores from each classifier\n",
    "        decision_scores = torch.stack([classifier.predict(X) for classifier in self.classifiers])\n",
    "        print(decision_scores)\n",
    "        predictions = torch.argmax(decision_scores, axis=0)\n",
    "        return predictions\n",
    "\n",
    "        \n",
    "        # Choose the class with the highest score\n",
    "        return torch.argmax(scores, axis=1)\n",
    "\n"
   ]
  },
  {
   "cell_type": "markdown",
   "metadata": {},
   "source": [
    "## Training"
   ]
  },
  {
   "cell_type": "code",
   "execution_count": 43,
   "metadata": {},
   "outputs": [
    {
     "name": "stdout",
     "output_type": "stream",
     "text": [
      "Classifier 0\n",
      "Classifier 1\n",
      "Classifier 2\n",
      "Classifier 3\n",
      "Classifier 4\n",
      "Classifier 5\n",
      "Classifier 6\n",
      "Classifier 7\n",
      "Classifier 8\n",
      "Classifier 9\n"
     ]
    }
   ],
   "source": [
    "n_classes = 10  # CIFAR-10 has 10 classes\n",
    "ovr_svm = OneVsRestSVM(n_classes)\n",
    "ovr_svm.fit(X_train, y_train, learning_rate=1e-3, lambda_param=1e-5, n_iters=10)"
   ]
  },
  {
   "cell_type": "markdown",
   "metadata": {},
   "source": [
    "## Now that we're fitted, time to test on the test dataset."
   ]
  },
  {
   "cell_type": "code",
   "execution_count": 19,
   "metadata": {},
   "outputs": [
    {
     "data": {
      "text/plain": [
       "(10000, 32, 32, 3)"
      ]
     },
     "execution_count": 19,
     "metadata": {},
     "output_type": "execute_result"
    }
   ],
   "source": [
    "test_ds = CIFAR10(root, train=False)\n",
    "X_test_raw = test_ds.images\n",
    "y_test_raw = test_ds.labels\n",
    "X_test_raw.shape"
   ]
  },
  {
   "cell_type": "code",
   "execution_count": 20,
   "metadata": {},
   "outputs": [
    {
     "data": {
      "text/plain": [
       "(10000, 3072)"
      ]
     },
     "execution_count": 20,
     "metadata": {},
     "output_type": "execute_result"
    }
   ],
   "source": [
    "X_test_reshaped = X_test_raw.reshape(X_test_raw.shape[0], 32*32*3)\n",
    "X_test_reshaped.shape"
   ]
  },
  {
   "cell_type": "code",
   "execution_count": 21,
   "metadata": {},
   "outputs": [],
   "source": [
    "# convert images / labels to float tensors for use with GPU acceleration\n",
    "# also normalize the image data to be kind to our algorithms \n",
    "X_test_tensor = torch.from_numpy(X_test_reshaped).to(torch.float32) / 255.0   #normalization\n",
    "y_test_tensor = torch.from_numpy(y_test_raw).to(torch.float32)"
   ]
  },
  {
   "cell_type": "code",
   "execution_count": 22,
   "metadata": {},
   "outputs": [],
   "source": [
    "# then put tensors on GPU\n",
    "# if you don't have a GPU, well buddy, go get one. cmon man\n",
    "X_test = X_test_tensor.cuda()\n",
    "y_test = y_test_tensor.cuda()"
   ]
  },
  {
   "cell_type": "code",
   "execution_count": 53,
   "metadata": {},
   "outputs": [],
   "source": [
    "def test_svm(svm, X_test, y_test):\n",
    "    # Make predictions\n",
    "    predictions = svm.predict(X_test)\n",
    "    print(max(predictions))\n",
    "    # Convert predictions and true labels to binary form if necessary\n",
    "    predictions = torch.where(predictions <= 0, torch.tensor(-1, dtype=torch.float32), torch.tensor(1, dtype=torch.float32))\n",
    "    y_test_binary = torch.where(y_test <= 0, torch.tensor(-1, dtype=torch.float32), torch.tensor(1, dtype=torch.float32))\n",
    "\n",
    "    # Calculate accuracy\n",
    "    correct_predictions = torch.sum(predictions == y_test_binary)\n",
    "    accuracy = correct_predictions.item() / y_test.shape[0]\n",
    "\n",
    "    return accuracy\n",
    "\n"
   ]
  },
  {
   "cell_type": "code",
   "execution_count": 54,
   "metadata": {},
   "outputs": [
    {
     "name": "stdout",
     "output_type": "stream",
     "text": [
      "tensor([[ 1.,  1.,  1.,  ..., -1.,  1.,  1.],\n",
      "        [ 1.,  1.,  1.,  ..., -1.,  1.,  1.],\n",
      "        [ 1.,  1.,  1.,  ..., -1.,  1.,  1.],\n",
      "        ...,\n",
      "        [ 1.,  1.,  1.,  ..., -1.,  1.,  1.],\n",
      "        [ 1.,  1.,  1.,  ..., -1.,  1.,  1.],\n",
      "        [ 1.,  1.,  1.,  ..., -1.,  1.,  1.]], device='cuda:0')\n",
      "tensor(9, device='cuda:0')\n",
      "Test Accuracy: 11.38%\n"
     ]
    }
   ],
   "source": [
    "accuracy = test_svm(ovr_svm, X_test, y_test)\n",
    "print(f\"Test Accuracy: {accuracy * 100:.2f}%\")"
   ]
  },
  {
   "cell_type": "code",
   "execution_count": null,
   "metadata": {},
   "outputs": [],
   "source": []
  }
 ],
 "metadata": {
  "colab": {
   "provenance": []
  },
  "kernelspec": {
   "display_name": "Pytorch 8550",
   "language": "python",
   "name": "pytorch8550"
  },
  "language_info": {
   "codemirror_mode": {
    "name": "ipython",
    "version": 3
   },
   "file_extension": ".py",
   "mimetype": "text/x-python",
   "name": "python",
   "nbconvert_exporter": "python",
   "pygments_lexer": "ipython3",
   "version": "3.10.9"
  }
 },
 "nbformat": 4,
 "nbformat_minor": 4
}
