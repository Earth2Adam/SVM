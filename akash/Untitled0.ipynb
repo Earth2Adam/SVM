{
 "cells": [
  {
   "cell_type": "code",
   "execution_count": 6,
   "metadata": {
    "id": "KWWTFEg8Elen"
   },
   "outputs": [],
   "source": [
    "import tensorflow as tf\n",
    "import os\n",
    "import keras\n",
    "import numpy as np\n",
    "\n",
    "from keras import backend\n",
    "#from keras.datasets.cifar import load_batch\n",
    "#from keras.utils.data_utils import get_file\n",
    "import matplotlib.pyplot as plt\n",
    "\n",
    "# isort: off\n",
    "from tensorflow.python.util.tf_export import keras_export"
   ]
  },
  {
   "cell_type": "code",
   "execution_count": 2,
   "metadata": {
    "colab": {
     "base_uri": "https://localhost:8080/"
    },
    "id": "sVqs3maIE_a_",
    "outputId": "55c67cc4-b2b9-4fed-fe9a-331192ba4368"
   },
   "outputs": [],
   "source": [
    "(x_train, y_train), (x_test, y_test) = keras.datasets.cifar10.load_data()\n",
    "assert x_train.shape == (50000, 32, 32, 3)\n",
    "assert x_test.shape == (10000, 32, 32, 3)\n",
    "assert y_train.shape == (50000, 1)\n",
    "assert y_test.shape == (10000, 1)"
   ]
  },
  {
   "cell_type": "code",
   "execution_count": 3,
   "metadata": {
    "colab": {
     "base_uri": "https://localhost:8080/"
    },
    "id": "Jj9FrJ1XFMNX",
    "outputId": "ede59d7c-148a-464f-87a2-8e96463229fa"
   },
   "outputs": [
    {
     "name": "stdout",
     "output_type": "stream",
     "text": [
      "(501, 32, 32, 3)\n"
     ]
    }
   ],
   "source": [
    "print(x_train[500:1001].shape)"
   ]
  },
  {
   "cell_type": "code",
   "execution_count": 4,
   "metadata": {
    "colab": {
     "background_save": true
    },
    "id": "RVy--9sKFZmK"
   },
   "outputs": [
    {
     "name": "stdout",
     "output_type": "stream",
     "text": [
      "Shape of xtrain_grayed: (50000, 32, 32)\n"
     ]
    }
   ],
   "source": [
    "import cv2\n",
    "import numpy as np\n",
    "\n",
    "def convert_gray(xtrain):\n",
    "    xtrain_grayed = []\n",
    "    for i in range(len(xtrain)):\n",
    "        gray_image = cv2.cvtColor(xtrain[i], cv2.COLOR_RGB2GRAY)\n",
    "        xtrain_grayed.append(gray_image)\n",
    "\n",
    "    # Convert the list to a NumPy array\n",
    "    xtrain_grayed = np.array(xtrain_grayed)\n",
    "\n",
    "    return xtrain_grayed\n",
    "\n",
    "# Example usage:\n",
    "# Assuming 'xtrain' is the CIFAR dataset after splitting\n",
    "\n",
    "# Perform grayscale conversion\n",
    "xtrain_grayed = convert_gray(x_train)\n",
    "\n",
    "# Check the shape of the grayscale dataset\n",
    "print(\"Shape of xtrain_grayed:\", xtrain_grayed.shape)\n",
    "\n",
    "# Save xtrain_grayed to a new file or use it further as needed\n",
    "# For example, to save to a .npy file:\n",
    "np.save('xtrain_grayed.npy', xtrain_grayed)\n",
    "\n"
   ]
  },
  {
   "cell_type": "code",
   "execution_count": 9,
   "metadata": {
    "colab": {
     "background_save": true
    },
    "id": "tLstFNgzVnuQ"
   },
   "outputs": [
    {
     "name": "stdout",
     "output_type": "stream",
     "text": [
      "[6]\n"
     ]
    },
    {
     "data": {
      "image/png": "[encoded data removed]",
      "text/plain": [
       "<Figure size 576x288 with 2 Axes>"
      ]
     },
     "metadata": {
      "needs_background": "light"
     },
     "output_type": "display_data"
    }
   ],
   "source": [
    "i = 0\n",
    "\n",
    "\n",
    "print(y_train[i])\n",
    "\n",
    "fig, axes = plt.subplots(1, 2, figsize=(8, 4))\n",
    "\n",
    "# Plot the RGB image on the first subplot\n",
    "axes[0].imshow(x_train[i])\n",
    "axes[0].set_title('RGB Image')\n",
    "axes[0].axis('off')  # Hide the axis for the first subplot\n",
    "\n",
    "# Plot the grayscale image on the second subplot\n",
    "axes[1].imshow(xtrain_grayed[i], cmap='gray')  # Display in grayscale\n",
    "axes[1].set_title('Grayscale Image')\n",
    "axes[1].axis('off')  # Hide the axis for the second subplot\n",
    "\n",
    "plt.tight_layout()  # Adjust layout for better spacing\n",
    "plt.show()"
   ]
  },
  {
   "cell_type": "code",
   "execution_count": 10,
   "metadata": {
    "colab": {
     "background_save": true
    },
    "id": "XeyWivHUV73u"
   },
   "outputs": [
    {
     "name": "stdout",
     "output_type": "stream",
     "text": [
      "(32, 32)\n"
     ]
    }
   ],
   "source": [
    "print(xtrain_grayed[0].shape)"
   ]
  },
  {
   "cell_type": "code",
   "execution_count": 11,
   "metadata": {
    "id": "r5s96wxqGfMM"
   },
   "outputs": [],
   "source": [
    "from sklearn.model_selection import train_test_split\n",
    "\n",
    "xtrain1, xtest1, ytrain1, ytest1 = train_test_split(x_train, y_train,stratify=y_train,random_state = 12345, test_size=0.1)"
   ]
  },
  {
   "cell_type": "code",
   "execution_count": 12,
   "metadata": {
    "colab": {
     "base_uri": "https://localhost:8080/"
    },
    "id": "WLr8diZoAyBl",
    "outputId": "b076a9b2-54e7-4c43-d03e-0e57b6877331"
   },
   "outputs": [
    {
     "data": {
      "text/plain": [
       "(5000, 1)"
      ]
     },
     "execution_count": 12,
     "metadata": {},
     "output_type": "execute_result"
    }
   ],
   "source": [
    "xtest1[0-500].shape\n",
    "ytest1.shape"
   ]
  },
  {
   "cell_type": "code",
   "execution_count": 13,
   "metadata": {
    "colab": {
     "base_uri": "https://localhost:8080/"
    },
    "id": "6f9TVdicJApP",
    "outputId": "68d7c793-56b4-47dd-fc13-fc881cf8a406"
   },
   "outputs": [
    {
     "name": "stdout",
     "output_type": "stream",
     "text": [
      "Shape of HOG features: (50000, 324)\n"
     ]
    }
   ],
   "source": [
    "def apply_hog_descriptor(images_array):\n",
    "    hog_features_list = []\n",
    "\n",
    "    for i in range(images_array.shape[0]):\n",
    "        image = images_array[i]\n",
    "\n",
    "        # Convert the image to grayscale\n",
    "        gray_image = cv2.cvtColor(image, cv2.COLOR_RGB2GRAY)\n",
    "\n",
    "        # Calculate HOG features\n",
    "        features = hog(gray_image, orientations=9, pixels_per_cell=(8, 8),\n",
    "                       cells_per_block=(3, 3))\n",
    "\n",
    "        hog_features_list.append(features)\n",
    "\n",
    "    # Convert the list of features to a NumPy array\n",
    "    hog_features_array = np.array(hog_features_list)\n",
    "\n",
    "    return hog_features_array\n",
    "\n",
    "# Example usage:\n",
    "# Assuming 'images_data' is the NumPy array with images of shape (5000, 32, 32, 3)\n",
    "\n",
    "# Apply HOG descriptor to the array of images\n",
    "hog_features = apply_hog_descriptor(x_train)\n",
    "hog_features_test = apply_hog_descriptor(x_test)\n",
    "\n",
    "# Check the shape of the resulting HOG features array\n",
    "print(\"Shape of HOG features:\", hog_features.shape)"
   ]
  },
  {
   "cell_type": "code",
   "execution_count": null,
   "metadata": {},
   "outputs": [],
   "source": []
  },
  {
   "cell_type": "code",
   "execution_count": null,
   "metadata": {
    "colab": {
     "base_uri": "https://localhost:8080/"
    },
    "id": "3EPSMJ5fDo2d",
    "outputId": "552555c1-f222-46fa-b448-d5a8bbaf4ecb"
   },
   "outputs": [
    {
     "name": "stderr",
     "output_type": "stream",
     "text": [
      "/usr/local/lib/python3.10/dist-packages/sklearn/utils/validation.py:1143: DataConversionWarning: A column-vector y was passed when a 1d array was expected. Please change the shape of y to (n_samples, ), for example using ravel().\n",
      "  y = column_or_1d(y, warn=True)\n"
     ]
    },
    {
     "name": "stdout",
     "output_type": "stream",
     "text": [
      "0.6266\n"
     ]
    }
   ],
   "source": [
    "from sklearn.svm import SVC\n",
    "\n",
    "s = SVC(verbose=0)\n",
    "s.fit(hog_features,y_train)\n",
    "ypred = s.predict(hog_features_test)\n",
    "#yscores = s.predict_proba(xtest)\n",
    "from sklearn.metrics import accuracy_score\n",
    "print(accuracy_score(ypred,y_test))"
   ]
  }
 ],
 "metadata": {
  "colab": {
   "provenance": []
  },
  "kernelspec": {
   "display_name": "Python 3 (ipykernel)",
   "language": "python",
   "name": "python3"
  },
  "language_info": {
   "codemirror_mode": {
    "name": "ipython",
    "version": 3
   },
   "file_extension": ".py",
   "mimetype": "text/x-python",
   "name": "python",
   "nbconvert_exporter": "python",
   "pygments_lexer": "ipython3",
   "version": "3.9.12"
  }
 },
 "nbformat": 4,
 "nbformat_minor": 4
}
