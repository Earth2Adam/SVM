{
 "cells": [
  {
   "cell_type": "code",
   "execution_count": null,
   "id": "46d92e6b-d492-4d41-83f1-bbda146d18ba",
   "metadata": {},
   "outputs": [],
   "source": [
    "import matplotlib.pyplot as plt\n",
    "import numpy as np\n",
    "import torch\n",
    "from cifar10 import CIFAR10\n",
    "\n",
    "root = '/scratch1/apicker/data/cifar10'\n",
    "dataset = CIFAR10(root, train=True)\n",
    "\n",
    "batch1_features, batch1_labels = load_cifar10_batch('/scratch1/apicker/data/cifar10/train/data_batch_1')\n",
    "batch2_features, batch2_labels = load_cifar10_batch('/scratch1/apicker/data/cifar10/train/data_batch_3')\n",
    "\n",
    "# Assuming you have loaded the features and labels for each batch\n",
    "print(\"Sample images from Batch 1:\")\n",
    "show_sample_images_with_labels(batch1_features, batch1_labels, label_names)\n"
   ]
  }
 ],
 "metadata": {
  "kernelspec": {
   "display_name": "Pytorch 8550",
   "language": "python",
   "name": "pytorch8550"
  },
  "language_info": {
   "codemirror_mode": {
    "name": "ipython",
    "version": 3
   },
   "file_extension": ".py",
   "mimetype": "text/x-python",
   "name": "python",
   "nbconvert_exporter": "python",
   "pygments_lexer": "ipython3",
   "version": "3.10.9"
  }
 },
 "nbformat": 4,
 "nbformat_minor": 5
}
