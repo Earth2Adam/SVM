{
 "cells": [
  {
   "cell_type": "markdown",
   "id": "be71d566-58b4-4209-b5e3-b92853f4c8ac",
   "metadata": {},
   "source": [
    "## Digits Implementation"
   ]
  },
  {
   "cell_type": "code",
   "execution_count": 2,
   "id": "12e869de-9f49-4a6c-a54b-e8fc9786a2d4",
   "metadata": {},
   "outputs": [],
   "source": [
    "from sklearn import datasets\n",
    "from sklearn.model_selection import train_test_split\n",
    "import torch"
   ]
  },
  {
   "cell_type": "code",
   "execution_count": 3,
   "id": "1da794af-d698-4d65-b33c-f27e71227175",
   "metadata": {},
   "outputs": [],
   "source": [
    "# Load Digits dataset\n",
    "digits = datasets.load_digits()\n",
    "X, y = digits.data, digits.target\n",
    "\n",
    "# Convert to PyTorch tensors\n",
    "X_tensor = torch.tensor(X, dtype=torch.float32)\n",
    "y_tensor = torch.tensor(y, dtype=torch.int64)\n",
    "\n",
    "# Split into training and testing set\n",
    "X_train, X_test, y_train, y_test = train_test_split(X_tensor, y_tensor, test_size=0.2, random_state=42)\n"
   ]
  },
  {
   "cell_type": "code",
   "execution_count": 4,
   "id": "c1261f4d-11e1-4070-b452-8367ef8e3baf",
   "metadata": {},
   "outputs": [],
   "source": [
    "class KernelSVM:\n",
    "    def __init__(self, kernel, C=1.0):\n",
    "        self.kernel = kernel\n",
    "        self.C = C\n",
    "        self.alphas = None\n",
    "        self.support_vectors = None\n",
    "        self.support_vector_labels = None\n",
    "\n",
    "    def fit(self, X, y):\n",
    "        # This is a placeholder for the fitting process.\n",
    "        # In practice, you'd implement an algorithm like SMO here to find the alphas and support vectors.\n",
    "        pass\n",
    "\n",
    "    def predict(self, X):\n",
    "        # Calculate the decision function based on the kernel\n",
    "        decision_function = sum(self.alphas[i] * self.support_vector_labels[i] * self.kernel(X[i], X) \n",
    "                                for i in range(len(self.support_vectors)))\n",
    "        return torch.sign(decision_function)\n",
    "\n",
    "def rbf_kernel(x1, x2, gamma=0.1):\n",
    "    distance = torch.norm(x1 - x2)\n",
    "    return torch.exp(-gamma * distance ** 2)\n"
   ]
  },
  {
   "cell_type": "code",
   "execution_count": 5,
   "id": "27141c13-6742-480e-805f-c7ae126508ff",
   "metadata": {},
   "outputs": [
    {
     "ename": "TypeError",
     "evalue": "object of type 'NoneType' has no len()",
     "output_type": "error",
     "traceback": [
      "\u001b[0;31m---------------------------------------------------------------------------\u001b[0m",
      "\u001b[0;31mTypeError\u001b[0m                                 Traceback (most recent call last)",
      "\u001b[0;32m/local_scratch/pbs.1607415.pbs02/ipykernel_446329/21125959.py\u001b[0m in \u001b[0;36m<module>\u001b[0;34m\u001b[0m\n\u001b[1;32m      7\u001b[0m \u001b[0mkernel_svm\u001b[0m \u001b[0;34m=\u001b[0m \u001b[0mKernelSVM\u001b[0m\u001b[0;34m(\u001b[0m\u001b[0mkernel\u001b[0m\u001b[0;34m=\u001b[0m\u001b[0mrbf_kernel\u001b[0m\u001b[0;34m)\u001b[0m\u001b[0;34m\u001b[0m\u001b[0;34m\u001b[0m\u001b[0m\n\u001b[1;32m      8\u001b[0m \u001b[0mkernel_svm\u001b[0m\u001b[0;34m.\u001b[0m\u001b[0mfit\u001b[0m\u001b[0;34m(\u001b[0m\u001b[0mX_train\u001b[0m\u001b[0;34m,\u001b[0m \u001b[0my_train\u001b[0m\u001b[0;34m)\u001b[0m\u001b[0;34m\u001b[0m\u001b[0;34m\u001b[0m\u001b[0m\n\u001b[0;32m----> 9\u001b[0;31m \u001b[0mprint\u001b[0m\u001b[0;34m(\u001b[0m\u001b[0;34m\"Test Accuracy:\"\u001b[0m\u001b[0;34m,\u001b[0m \u001b[0mtest_kernel_svm\u001b[0m\u001b[0;34m(\u001b[0m\u001b[0mkernel_svm\u001b[0m\u001b[0;34m,\u001b[0m \u001b[0mX_test\u001b[0m\u001b[0;34m,\u001b[0m \u001b[0my_test\u001b[0m\u001b[0;34m)\u001b[0m\u001b[0;34m)\u001b[0m\u001b[0;34m\u001b[0m\u001b[0;34m\u001b[0m\u001b[0m\n\u001b[0m",
      "\u001b[0;32m/local_scratch/pbs.1607415.pbs02/ipykernel_446329/21125959.py\u001b[0m in \u001b[0;36mtest_kernel_svm\u001b[0;34m(svm, X_test, y_test)\u001b[0m\n\u001b[1;32m      1\u001b[0m \u001b[0;32mdef\u001b[0m \u001b[0mtest_kernel_svm\u001b[0m\u001b[0;34m(\u001b[0m\u001b[0msvm\u001b[0m\u001b[0;34m,\u001b[0m \u001b[0mX_test\u001b[0m\u001b[0;34m,\u001b[0m \u001b[0my_test\u001b[0m\u001b[0;34m)\u001b[0m\u001b[0;34m:\u001b[0m\u001b[0;34m\u001b[0m\u001b[0;34m\u001b[0m\u001b[0m\n\u001b[0;32m----> 2\u001b[0;31m     \u001b[0mpredictions\u001b[0m \u001b[0;34m=\u001b[0m \u001b[0msvm\u001b[0m\u001b[0;34m.\u001b[0m\u001b[0mpredict\u001b[0m\u001b[0;34m(\u001b[0m\u001b[0mX_test\u001b[0m\u001b[0;34m)\u001b[0m\u001b[0;34m\u001b[0m\u001b[0;34m\u001b[0m\u001b[0m\n\u001b[0m\u001b[1;32m      3\u001b[0m     \u001b[0maccuracy\u001b[0m \u001b[0;34m=\u001b[0m \u001b[0mtorch\u001b[0m\u001b[0;34m.\u001b[0m\u001b[0msum\u001b[0m\u001b[0;34m(\u001b[0m\u001b[0mpredictions\u001b[0m \u001b[0;34m==\u001b[0m \u001b[0my_test\u001b[0m\u001b[0;34m)\u001b[0m\u001b[0;34m.\u001b[0m\u001b[0mitem\u001b[0m\u001b[0;34m(\u001b[0m\u001b[0;34m)\u001b[0m \u001b[0;34m/\u001b[0m \u001b[0mlen\u001b[0m\u001b[0;34m(\u001b[0m\u001b[0my_test\u001b[0m\u001b[0;34m)\u001b[0m\u001b[0;34m\u001b[0m\u001b[0;34m\u001b[0m\u001b[0m\n\u001b[1;32m      4\u001b[0m     \u001b[0;32mreturn\u001b[0m \u001b[0maccuracy\u001b[0m\u001b[0;34m\u001b[0m\u001b[0;34m\u001b[0m\u001b[0m\n\u001b[1;32m      5\u001b[0m \u001b[0;34m\u001b[0m\u001b[0m\n",
      "\u001b[0;32m/local_scratch/pbs.1607415.pbs02/ipykernel_446329/1665207607.py\u001b[0m in \u001b[0;36mpredict\u001b[0;34m(self, X)\u001b[0m\n\u001b[1;32m     15\u001b[0m         \u001b[0;31m# Calculate the decision function based on the kernel\u001b[0m\u001b[0;34m\u001b[0m\u001b[0;34m\u001b[0m\u001b[0m\n\u001b[1;32m     16\u001b[0m         decision_function = sum(self.alphas[i] * self.support_vector_labels[i] * self.kernel(X[i], X) \n\u001b[0;32m---> 17\u001b[0;31m                                 for i in range(len(self.support_vectors)))\n\u001b[0m\u001b[1;32m     18\u001b[0m         \u001b[0;32mreturn\u001b[0m \u001b[0mtorch\u001b[0m\u001b[0;34m.\u001b[0m\u001b[0msign\u001b[0m\u001b[0;34m(\u001b[0m\u001b[0mdecision_function\u001b[0m\u001b[0;34m)\u001b[0m\u001b[0;34m\u001b[0m\u001b[0;34m\u001b[0m\u001b[0m\n\u001b[1;32m     19\u001b[0m \u001b[0;34m\u001b[0m\u001b[0m\n",
      "\u001b[0;31mTypeError\u001b[0m: object of type 'NoneType' has no len()"
     ]
    }
   ],
   "source": [
    "def test_kernel_svm(svm, X_test, y_test):\n",
    "    predictions = svm.predict(X_test)\n",
    "    accuracy = torch.sum(predictions == y_test).item() / len(y_test)\n",
    "    return accuracy\n",
    "\n",
    "# Example usage (after implementing the fitting process)\n",
    "kernel_svm = KernelSVM(kernel=rbf_kernel)\n",
    "kernel_svm.fit(X_train, y_train)\n",
    "print(\"Test Accuracy:\", test_kernel_svm(kernel_svm, X_test, y_test))\n"
   ]
  },
  {
   "cell_type": "code",
   "execution_count": null,
   "id": "08af1e8e-61c4-4582-bc6a-32206d94b9bc",
   "metadata": {},
   "outputs": [],
   "source": []
  }
 ],
 "metadata": {
  "kernelspec": {
   "display_name": "Pytorch 8550",
   "language": "python",
   "name": "pytorch8550"
  },
  "language_info": {
   "codemirror_mode": {
    "name": "ipython",
    "version": 3
   },
   "file_extension": ".py",
   "mimetype": "text/x-python",
   "name": "python",
   "nbconvert_exporter": "python",
   "pygments_lexer": "ipython3",
   "version": "3.10.9"
  }
 },
 "nbformat": 4,
 "nbformat_minor": 5
}
